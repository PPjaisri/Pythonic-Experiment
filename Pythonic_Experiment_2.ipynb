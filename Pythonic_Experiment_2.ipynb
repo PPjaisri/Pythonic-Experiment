{
  "nbformat": 4,
  "nbformat_minor": 0,
  "metadata": {
    "colab": {
      "name": "Pythonic Experiment 2.ipynb",
      "provenance": [],
      "collapsed_sections": [],
      "toc_visible": true
    },
    "kernelspec": {
      "name": "python3",
      "display_name": "Python 3"
    },
    "language_info": {
      "name": "python"
    }
  },
  "cells": [
    {
      "cell_type": "markdown",
      "metadata": {
        "id": "dSglJl9AuTrM"
      },
      "source": [
        "# Pythonic experiment\n",
        "There are 2 types of pythonic code\n",
        "* Coding style : Change the coding style that make the code shorter and readable\n",
        "* Indent style : Arrange the code using indent and spacing to make the code more readable but not improve the performance"
      ]
    },
    {
      "cell_type": "markdown",
      "metadata": {
        "id": "SmTYwgkS3VZB"
      },
      "source": [
        "## Time calculation\n",
        "\n",
        "I use `time` library from python to calculation the time in second.\n",
        "*   perf_counter(): measure in second\n",
        "*   perf_counter_ns(): measure in nanosecond\n",
        "\n",
        "I modify my timer function to use in the experiment\n"
      ]
    },
    {
      "cell_type": "code",
      "metadata": {
        "id": "GUPh-Rfw3UlC"
      },
      "source": [
        "from time import perf_counter"
      ],
      "execution_count": null,
      "outputs": []
    },
    {
      "cell_type": "code",
      "metadata": {
        "id": "ak6P0JxOVRB-"
      },
      "source": [
        "def timer(function):\n",
        "    for i in range(1, 1001):\n",
        "        function()\n",
        "\n",
        "def print_time():\n",
        "    time_res1 = sum(res1)\n",
        "    time_res2 = sum(res2)\n",
        "\n",
        "    print('non Pythonic use\\n', format(time_res1, '.5f'), 'seconds\\n')\n",
        "    print('Pythonic use\\n', format(time_res2, '.5f'), 'seconds')"
      ],
      "execution_count": null,
      "outputs": []
    },
    {
      "cell_type": "markdown",
      "metadata": {
        "id": "VjSxh2KJxla8"
      },
      "source": [
        "## Coding style"
      ]
    },
    {
      "cell_type": "markdown",
      "metadata": {
        "id": "7FVw3jpI94am"
      },
      "source": [
        "### namespace.py"
      ]
    },
    {
      "cell_type": "code",
      "metadata": {
        "id": "WHFdtB0O1pH3"
      },
      "source": [
        "!pip install oslo.log oslo.utils"
      ],
      "execution_count": null,
      "outputs": []
    },
    {
      "cell_type": "code",
      "metadata": {
        "id": "-p1Sw7pF1nie"
      },
      "source": [
        "import functools\n",
        "\n",
        "from oslo_log import log as logging\n",
        "from oslo_utils import excutils\n",
        "\n",
        "LOG = logging.getLogger(__name__)"
      ],
      "execution_count": null,
      "outputs": []
    },
    {
      "cell_type": "markdown",
      "metadata": {
        "id": "RCZzdUAg2Dh7"
      },
      "source": [
        "Note\n",
        "\n",
        "*   Input of this function is object\n",
        "*   `self.name` is name of object\n",
        "*   `f.__name__` is the function name"
      ]
    },
    {
      "cell_type": "code",
      "metadata": {
        "id": "pCo_dGHR9lhs"
      },
      "source": [
        "res1 = []\n",
        "res2 = []\n",
        "\n",
        "def test():\n",
        "    # self.name are get name from class\n",
        "    # so I use NAME instead of self.name in this code\n",
        "    # and I use string instead f.__name__\n",
        "\n",
        "    NAME = '__Hello__'\n",
        "    f = '__function__'\n",
        "\n",
        "    # non Pythonic\n",
        "\n",
        "    time1 = perf_counter()\n",
        "\n",
        "    LOG.warning('Namespace %(name)s does not exist. Skipping '\n",
        "                '%(func)s',\n",
        "                {'name': NAME, 'func': f})\n",
        "\n",
        "    time2 = perf_counter()\n",
        "\n",
        "    # Pythonic\n",
        "\n",
        "    time3 = perf_counter()\n",
        "\n",
        "    LOG.warning(f'Namespace {NAME} does not exist. Skipping {f}')\n",
        "\n",
        "    time4 = perf_counter()\n",
        "\n",
        "    # This function is logging the name of the method\n",
        "    # self.name is name of the method in class namespace\n",
        "    # f.__name__ is the function name\n",
        "\n",
        "    res1.append(time2 - time1)\n",
        "    res2.append(time4 - time3)\n",
        "\n",
        "timer(test)"
      ],
      "execution_count": null,
      "outputs": []
    },
    {
      "cell_type": "code",
      "metadata": {
        "colab": {
          "base_uri": "https://localhost:8080/"
        },
        "id": "53zzNgfIjMke",
        "outputId": "192fe0c7-1331-48f9-a957-0dbb53b48322"
      },
      "source": [
        "print_time()"
      ],
      "execution_count": null,
      "outputs": [
        {
          "output_type": "stream",
          "text": [
            "non Pythonic use\n",
            " 4.55466 seconds\n",
            "\n",
            "Pythonic use\n",
            " 2.56382 seconds\n"
          ],
          "name": "stdout"
        }
      ]
    },
    {
      "cell_type": "markdown",
      "metadata": {
        "id": "l-UIBU2f-IeT"
      },
      "source": [
        "### policy.py"
      ]
    },
    {
      "cell_type": "code",
      "metadata": {
        "id": "AGF6_Zk6-Sbk"
      },
      "source": [
        "import sys"
      ],
      "execution_count": null,
      "outputs": []
    },
    {
      "cell_type": "code",
      "metadata": {
        "id": "iJxfUktt-QrG"
      },
      "source": [
        "res1 = []\n",
        "res2 = []\n",
        "\n",
        "def test():\n",
        "    # non Pythonic\n",
        "\n",
        "    conf_args = []\n",
        "\n",
        "    time1 = perf_counter()\n",
        "\n",
        "    # Start at 1 because cfg.CONF expects the equivalent of sys.argv[1:]\n",
        "    i = 1\n",
        "    while i < len(sys.argv):\n",
        "        if sys.argv[i].strip('-') in ['namespace', 'output-file']:\n",
        "            i += 2\n",
        "            continue\n",
        "        conf_args.append(sys.argv[i])\n",
        "        i += 1\n",
        "\n",
        "    time2 = perf_counter()\n",
        "\n",
        "    # Pythonic\n",
        "\n",
        "    time3 = perf_counter()\n",
        "\n",
        "    conf_args = [sys.argv[i]\n",
        "                for i in range(1, len(sys.argv))\n",
        "                if sys.argv[i].strip('-') not in ['namespace', 'output-file']]\n",
        "\n",
        "    time4 = perf_counter()\n",
        "\n",
        "    # This function is filter config argument vector that\n",
        "    # have 'namespace' or 'output-file' in system argument vector\n",
        "\n",
        "    res1.append(time2 - time1)\n",
        "    res2.append(time4 - time3)\n",
        "\n",
        "timer(test)"
      ],
      "execution_count": null,
      "outputs": []
    },
    {
      "cell_type": "code",
      "metadata": {
        "id": "2DjzXbfcArF8",
        "colab": {
          "base_uri": "https://localhost:8080/"
        },
        "outputId": "a35c226f-513c-4c37-dbca-af5b34748a81"
      },
      "source": [
        "print_time()"
      ],
      "execution_count": null,
      "outputs": [
        {
          "output_type": "stream",
          "text": [
            "non Pythonic use\n",
            " 0.02977 seconds\n",
            "\n",
            "Pythonic use\n",
            " 0.00430 seconds\n"
          ],
          "name": "stdout"
        }
      ]
    },
    {
      "cell_type": "markdown",
      "metadata": {
        "id": "B-z27wv8_MuG"
      },
      "source": [
        "### test.py"
      ]
    },
    {
      "cell_type": "code",
      "metadata": {
        "id": "YaaXbvdIALP5"
      },
      "source": [
        "import inspect"
      ],
      "execution_count": null,
      "outputs": []
    },
    {
      "cell_type": "markdown",
      "metadata": {
        "id": "Hd5ut5TNO4qH"
      },
      "source": [
        "This code is sample file to use in test.py\n",
        "\n",
        "\n",
        "> name `inst.py`\n",
        "\n"
      ]
    },
    {
      "cell_type": "code",
      "metadata": {
        "id": "hx9lfXZKONUi"
      },
      "source": [
        "f = open('inst.py', 'w')\n",
        "f.write(\"\"\"\n",
        "\n",
        "'''This is module docstring'''\n",
        "\n",
        "\n",
        "def hello():\n",
        "   '''hello docstring'''\n",
        "   print('Hello world')\n",
        "   return\n",
        "\n",
        "\n",
        "#class definitions\n",
        "class parent:\n",
        "   '''parent docstring'''\n",
        "\n",
        "   def __init__(self):\n",
        "      self.var = 'hello'\n",
        "\n",
        "   def hello(self):\n",
        "      print(self.var)\n",
        "\n",
        "\n",
        "class child(parent):\n",
        "   def hello(self):\n",
        "      '''hello function overridden'''\n",
        "      super().hello()\n",
        "      print(\"How are you?\")\n",
        "    \n",
        "\"\"\")\n",
        "f.close()"
      ],
      "execution_count": null,
      "outputs": []
    },
    {
      "cell_type": "code",
      "metadata": {
        "id": "AVJ746r7NJ3e"
      },
      "source": [
        "import inst\n",
        "\n",
        "res1 = []\n",
        "res2 = []\n",
        "\n",
        "def findmethods(object):\n",
        "    return inspect.ismethod(object) or inspect.isfunction(object)\n",
        "\n",
        "def test():\n",
        "    # non Pythonic\n",
        "\n",
        "    time1 = perf_counter()\n",
        "\n",
        "    methods = {}\n",
        "    for (name, value) in inspect.getmembers(inst):\n",
        "        if name.startswith(\"__\"):\n",
        "            continue\n",
        "        methods[name] = value\n",
        "\n",
        "    time2 = perf_counter()\n",
        "\n",
        "    # Pythonic\n",
        "\n",
        "    time3 = perf_counter()\n",
        "\n",
        "    methods = {name: value for (name, value) in inspect.getmembers(inst)\n",
        "            if not name.startswith(\"__\")}\n",
        "\n",
        "    time4 = perf_counter()\n",
        "\n",
        "    print(methods)\n",
        "\n",
        "    # This is function that find amount of method name \n",
        "    # to check equality of the json\n",
        "    # from assertJsonEqual() function\n",
        "\n",
        "    res1.append(time2 - time1)\n",
        "    res2.append(time4 - time3)\n",
        "\n",
        "timer(test)"
      ],
      "execution_count": null,
      "outputs": []
    },
    {
      "cell_type": "code",
      "metadata": {
        "id": "QIFRpE8AAQRc",
        "colab": {
          "base_uri": "https://localhost:8080/"
        },
        "outputId": "80b77a83-a74a-4e23-dd7e-2cc769176cd6"
      },
      "source": [
        "print_time()"
      ],
      "execution_count": null,
      "outputs": [
        {
          "output_type": "stream",
          "text": [
            "non Pythonic use\n",
            " 0.03482 seconds\n",
            "\n",
            "Pythonic use\n",
            " 0.02703 seconds\n"
          ],
          "name": "stdout"
        }
      ]
    },
    {
      "cell_type": "markdown",
      "metadata": {
        "id": "-N5CW_9hSsaS"
      },
      "source": [
        "### install_venv.py"
      ]
    },
    {
      "cell_type": "code",
      "metadata": {
        "id": "TkGhwOELZmK-"
      },
      "source": [
        "import subprocess\n",
        "\n",
        "redirect_output = True\n",
        "stdout = None"
      ],
      "execution_count": null,
      "outputs": []
    },
    {
      "cell_type": "code",
      "metadata": {
        "id": "MzolesszRvTf"
      },
      "source": [
        "res1 = []\n",
        "res2 = []\n",
        "\n",
        "def test():\n",
        "    # non Pythonic\n",
        "\n",
        "    time1 = perf_counter()\n",
        "\n",
        "    if redirect_output:\n",
        "        stdout = subprocess.PIPE\n",
        "    else:\n",
        "        stdout = None\n",
        "\n",
        "    time2 = perf_counter()\n",
        "\n",
        "    # Pythonic\n",
        "\n",
        "    time3 = perf_counter()\n",
        "\n",
        "    stdout = subprocess.PIPE if redirect_output else None\n",
        "\n",
        "    time4 = perf_counter()\n",
        "\n",
        "    # Runs a command in an out-of-process shell, returning the\n",
        "    # output of that command.  Working directory is ROOT.\n",
        "\n",
        "    res1.append(time2 - time1)\n",
        "    res2.append(time4 - time3)\n",
        "\n",
        "timer(test)"
      ],
      "execution_count": null,
      "outputs": []
    },
    {
      "cell_type": "code",
      "metadata": {
        "id": "vKm-8FAKZpGh",
        "colab": {
          "base_uri": "https://localhost:8080/"
        },
        "outputId": "4e89fa36-c501-4423-ea91-7d3f34af9a10"
      },
      "source": [
        "print_time()"
      ],
      "execution_count": null,
      "outputs": [
        {
          "output_type": "stream",
          "text": [
            "non Pythonic use\n",
            " 0.00017 seconds\n",
            "\n",
            "Pythonic use\n",
            " 0.00016 seconds\n"
          ],
          "name": "stdout"
        }
      ]
    },
    {
      "cell_type": "markdown",
      "metadata": {
        "id": "jqyL9-Jausc_"
      },
      "source": [
        "### sux.py"
      ]
    },
    {
      "cell_type": "code",
      "metadata": {
        "id": "gWlJqrTuwpCk"
      },
      "source": [
        "def unionlist(*args):\n",
        "    l = []\n",
        "    for x in args:\n",
        "        l.extend(x)\n",
        "    d = dict([(x, 1) for x in l])\n",
        "    return d.keys()"
      ],
      "execution_count": null,
      "outputs": []
    },
    {
      "cell_type": "code",
      "metadata": {
        "id": "kps9gvxeuu19"
      },
      "source": [
        "res1 = []\n",
        "res2 = []\n",
        "\n",
        "# mock up nop variable\n",
        "nop = '__nop__'\n",
        "\n",
        "def zipfndict(*args, **kw):\n",
        "    default = kw.get('default', nop)\n",
        "\n",
        "    # non Pythonic\n",
        "\n",
        "    time1 = perf_counter()\n",
        "\n",
        "    d = {}\n",
        "    for key in unionlist(*[fndict.keys() for fndict in args]):\n",
        "        d[key] = tuple([x.get(key, default) for x in args])\n",
        "\n",
        "    time2 = perf_counter()\n",
        "\n",
        "    # Pythonic\n",
        "\n",
        "    time3 = perf_counter()\n",
        "\n",
        "    d = {key: tuple([x.get(key, default) for x in args])\n",
        "         for key in unionlist(*[fndict.keys() for fndict in args])}\n",
        "\n",
        "    time4 = perf_counter()\n",
        "\n",
        "    res1.append(time2 - time1)\n",
        "    res2.append(time4 - time3)\n",
        "\n",
        "    return d"
      ],
      "execution_count": null,
      "outputs": []
    },
    {
      "cell_type": "markdown",
      "metadata": {
        "id": "oKd4KWiCu-9r"
      },
      "source": [
        "This function take a dict argument and return list of dict's keys"
      ]
    },
    {
      "cell_type": "code",
      "metadata": {
        "colab": {
          "base_uri": "https://localhost:8080/"
        },
        "id": "l1667rHDvNSb",
        "outputId": "68a1692d-e1cf-4f0e-d91d-9e234f6791f6"
      },
      "source": [
        "input1 = { 'key1': 'value1', 'key2': 'value2', 'key3': 'value3' }\n",
        "# input2 = [('key1', 'value1'), ('key2', 'value2'), ('key3', 'value3')]\n",
        "\n",
        "for i in range(1, 1001):\n",
        "    zipfndict(input1)\n",
        "\n",
        "print_time()"
      ],
      "execution_count": null,
      "outputs": [
        {
          "output_type": "stream",
          "text": [
            "non Pythonic use\n",
            " 0.01436 seconds\n",
            "\n",
            "Pythonic use\n",
            " 0.01430 seconds\n"
          ],
          "name": "stdout"
        }
      ]
    },
    {
      "cell_type": "markdown",
      "metadata": {
        "id": "zOA8DhZOxzKp"
      },
      "source": [
        "## Indent style\n",
        "\n",
        "This style not boost running performance but make it more readable."
      ]
    },
    {
      "cell_type": "markdown",
      "metadata": {
        "id": "Q0HNnojuTqrf"
      },
      "source": [
        "### test_dhcp_agent_scheduler.py"
      ]
    },
    {
      "cell_type": "code",
      "metadata": {
        "id": "UfZuPocdaz-o"
      },
      "source": [
        "# Sample code\n",
        "# Use indent to arrange the code\n",
        "# make it looks clean debug easily\n",
        "# but not improve performance \n",
        "\n",
        "scenarios = [\n",
        "    ('Network present',\n",
        "        dict(network_present=True,\n",
        "            enable_dhcp=True,\n",
        "            scheduled_already=False,\n",
        "            agent_down=False,\n",
        "            valid_host=True,\n",
        "            az_hints=[])),\n",
        "\n",
        "    ('No network',\n",
        "        dict(network_present=False,\n",
        "            enable_dhcp=False,\n",
        "            scheduled_already=False,\n",
        "            agent_down=False,\n",
        "            valid_host=True,\n",
        "            az_hints=[])),\n",
        "\n",
        "    ('Network already scheduled',\n",
        "        dict(network_present=True,\n",
        "            enable_dhcp=True,\n",
        "            scheduled_already=True,\n",
        "            agent_down=False,\n",
        "            valid_host=True,\n",
        "            az_hints=[])),\n",
        "\n",
        "    ('Agent down',\n",
        "        dict(network_present=True,\n",
        "            enable_dhcp=True,\n",
        "            scheduled_already=False,\n",
        "            agent_down=False,\n",
        "            valid_host=True,\n",
        "            az_hints=[])),\n",
        "\n",
        "    ('dhcp disabled',\n",
        "        dict(network_present=True,\n",
        "            enable_dhcp=False,\n",
        "            scheduled_already=False,\n",
        "            agent_down=False,\n",
        "            valid_host=False,\n",
        "            az_hints=[])),\n",
        "\n",
        "    ('Invalid host',\n",
        "        dict(network_present=True,\n",
        "            enable_dhcp=True,\n",
        "            scheduled_already=False,\n",
        "            agent_down=False,\n",
        "            valid_host=False,\n",
        "            az_hints=[])),\n",
        "\n",
        "    ('Match AZ',\n",
        "        dict(network_present=True,\n",
        "            enable_dhcp=True,\n",
        "            scheduled_already=False,\n",
        "            agent_down=False,\n",
        "            valid_host=True,\n",
        "            az_hints=['nova'])),\n",
        "\n",
        "    ('Not match AZ',\n",
        "        dict(network_present=True,\n",
        "            enable_dhcp=True,\n",
        "            scheduled_already=False,\n",
        "            agent_down=False,\n",
        "            valid_host=True,\n",
        "            az_hints=['not-match'])),\n",
        "]"
      ],
      "execution_count": null,
      "outputs": []
    },
    {
      "cell_type": "markdown",
      "metadata": {
        "id": "R8Tq7OmOZkVH"
      },
      "source": [
        "### policy.py"
      ]
    },
    {
      "cell_type": "code",
      "metadata": {
        "id": "z3O6XptWZlzn",
        "colab": {
          "base_uri": "https://localhost:8080/",
          "height": 52
        },
        "outputId": "468005df-033f-4cf1-e512-ec6aadad5f15"
      },
      "source": [
        "# Same meaning but unsame feeling\n",
        "\n",
        "#  unFormatted code\n",
        "\n",
        "\"\"\"result = _ENFORCER.enforce(match_rule, target, credentials, pluralized=pluralized)\"\"\"\n",
        "\n",
        "# Formatted code\n",
        "\n",
        "\"\"\"result = _ENFORCER.enforce(match_rule,\n",
        "                           target,\n",
        "                           credentials,\n",
        "                           pluralized=pluralized)\"\"\""
      ],
      "execution_count": null,
      "outputs": [
        {
          "output_type": "execute_result",
          "data": {
            "application/vnd.google.colaboratory.intrinsic+json": {
              "type": "string"
            },
            "text/plain": [
              "'result = _ENFORCER.enforce(match_rule,\\n                           target,\\n                           credentials,\\n                           pluralized=pluralized)'"
            ]
          },
          "metadata": {
            "tags": []
          },
          "execution_count": 21
        }
      ]
    }
  ]
}