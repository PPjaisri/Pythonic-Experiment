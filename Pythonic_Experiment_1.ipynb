{
  "nbformat": 4,
  "nbformat_minor": 0,
  "metadata": {
    "colab": {
      "name": "Pythonic Experiment 1.ipynb",
      "provenance": [],
      "collapsed_sections": [],
      "toc_visible": true
    },
    "kernelspec": {
      "name": "python3",
      "display_name": "Python 3"
    },
    "language_info": {
      "name": "python"
    }
  },
  "cells": [
    {
      "cell_type": "markdown",
      "metadata": {
        "id": "a112xq6rYBI-"
      },
      "source": [
        "# Pythonic convert"
      ]
    },
    {
      "cell_type": "markdown",
      "metadata": {
        "id": "lxESv8HXeTRh"
      },
      "source": [
        "## Time calculation\n",
        "\n",
        "I use `time` library from python to calculation the time in second.\n",
        "*   perf_counter(): measure in second\n",
        "*   perf_counter_ns(): measure in nanosecond\n",
        "\n",
        "I modify my timer function to use in the experiment\n"
      ]
    },
    {
      "cell_type": "code",
      "metadata": {
        "id": "JPYnl0cEeWbZ"
      },
      "source": [
        "from time import perf_counter\n",
        "\n",
        "def timer(function):\n",
        "    for i in range(1, 1001):\n",
        "        function()\n",
        "\n",
        "def print_time():\n",
        "    result = sum(res)\n",
        "    print(format(result, '.5f'), 'seconds')"
      ],
      "execution_count": null,
      "outputs": []
    },
    {
      "cell_type": "markdown",
      "metadata": {
        "id": "_zKuJY27YHfU"
      },
      "source": [
        "## Test 1: sort a list and remove duplicates"
      ]
    },
    {
      "cell_type": "markdown",
      "metadata": {
        "id": "oMvKWMBBYOEI"
      },
      "source": [
        "non-Pythonic version"
      ]
    },
    {
      "cell_type": "code",
      "metadata": {
        "colab": {
          "base_uri": "https://localhost:8080/"
        },
        "id": "aqiVPx0OX2zv",
        "outputId": "3a715a4e-0a43-4145-9f59-39f6c6f3f1fd"
      },
      "source": [
        "res = []\n",
        "\n",
        "for i in range(1, 1001):\n",
        "    time1 = perf_counter()\n",
        "\n",
        "    x = [4, 3, 3, 2, 4, 1]\n",
        "    [y for y in (locals().__setitem__('d', {}) or x.sort() or x) if y not in d and (d.__setitem__(y, None) or True)]\n",
        "\n",
        "    time2 = perf_counter()\n",
        "\n",
        "    res.append(time2 - time1)\n",
        "\n",
        "print(format(sum(res), '.5f'), 'seconds')"
      ],
      "execution_count": null,
      "outputs": [
        {
          "output_type": "stream",
          "text": [
            "0.00401 seconds\n"
          ],
          "name": "stdout"
        }
      ]
    },
    {
      "cell_type": "markdown",
      "metadata": {
        "id": "Hl5pATxrYZDj"
      },
      "source": [
        "Pythonic version"
      ]
    },
    {
      "cell_type": "code",
      "metadata": {
        "id": "_mDeAIdVYayA"
      },
      "source": [
        "res = []\n",
        "\n",
        "def test():\n",
        "    time1 = perf_counter()\n",
        "\n",
        "    x = [4, 3, 3, 2, 4, 1]\n",
        "    [i for i in {x: x for x in (x.sort() or x)}.keys()]\n",
        "\n",
        "    time2 = perf_counter()\n",
        "\n",
        "    res.append(time2 - time1)\n",
        "\n",
        "timer(test)"
      ],
      "execution_count": null,
      "outputs": []
    },
    {
      "cell_type": "code",
      "metadata": {
        "colab": {
          "base_uri": "https://localhost:8080/"
        },
        "id": "wMmNTkkOiv19",
        "outputId": "dbd30009-9db7-44fa-b426-3ccaefc961dd"
      },
      "source": [
        "print_time()"
      ],
      "execution_count": null,
      "outputs": [
        {
          "output_type": "stream",
          "text": [
            "0.00234 seconds\n"
          ],
          "name": "stdout"
        }
      ]
    },
    {
      "cell_type": "markdown",
      "metadata": {
        "id": "XJbiZ_qKYi3e"
      },
      "source": [
        "## Test 2: nested lists"
      ]
    },
    {
      "cell_type": "markdown",
      "metadata": {
        "id": "OtZEy96dYlp5"
      },
      "source": [
        "non-Pythonic version"
      ]
    },
    {
      "cell_type": "code",
      "metadata": {
        "id": "-nyOWqM0YkaE"
      },
      "source": [
        "res = []\n",
        "\n",
        "def test():\n",
        "    time1 = perf_counter()\n",
        "\n",
        "    a = [[1, 2], [3, 4], [5, 6]]\n",
        "    b = []\n",
        "    for xs in a:\n",
        "        for x in xs:\n",
        "            b.append(x)\n",
        "\n",
        "    time2 = perf_counter()\n",
        "\n",
        "    res.append(time2 - time1)\n",
        "\n",
        "timer(test)"
      ],
      "execution_count": null,
      "outputs": []
    },
    {
      "cell_type": "code",
      "metadata": {
        "colab": {
          "base_uri": "https://localhost:8080/"
        },
        "id": "z4jG-XR7jGtA",
        "outputId": "69f293fb-0ed9-4e31-937a-ccd3ec30d524"
      },
      "source": [
        "print_time()"
      ],
      "execution_count": null,
      "outputs": [
        {
          "output_type": "stream",
          "text": [
            "0.00185 seconds\n"
          ],
          "name": "stdout"
        }
      ]
    },
    {
      "cell_type": "markdown",
      "metadata": {
        "id": "6h6c93jkYqHm"
      },
      "source": [
        "Pythonic version"
      ]
    },
    {
      "cell_type": "code",
      "metadata": {
        "id": "YHvduQnXY0rM"
      },
      "source": [
        "res = []\n",
        "\n",
        "def test():\n",
        "    time1 = perf_counter()\n",
        "\n",
        "    a = [[1, 2], [3, 4], [5, 6]]\n",
        "    b = [x for xs in a for x in xs]\n",
        "\n",
        "    time2 = perf_counter()\n",
        "\n",
        "    res.append(time2 - time1)\n",
        "\n",
        "timer(test)"
      ],
      "execution_count": null,
      "outputs": []
    },
    {
      "cell_type": "code",
      "metadata": {
        "colab": {
          "base_uri": "https://localhost:8080/"
        },
        "id": "GQ51-Fz8jgXK",
        "outputId": "d059cea7-2de9-4db3-f81c-78d021817b4e"
      },
      "source": [
        "print_time()"
      ],
      "execution_count": null,
      "outputs": [
        {
          "output_type": "stream",
          "text": [
            "0.00204 seconds\n"
          ],
          "name": "stdout"
        }
      ]
    },
    {
      "cell_type": "markdown",
      "metadata": {
        "id": "_q59voGbZDZ5"
      },
      "source": [
        "## Test 3: Create a dictionary where keys have multiple values"
      ]
    },
    {
      "cell_type": "markdown",
      "metadata": {
        "id": "VyQILw6VZFOT"
      },
      "source": [
        "non-Pythonic version"
      ]
    },
    {
      "cell_type": "code",
      "metadata": {
        "id": "nKZezCY0ZGxS"
      },
      "source": [
        "res = []\n",
        "\n",
        "def test():\n",
        "    time1 = perf_counter()\n",
        "\n",
        "    L = [('a', '111'), ('b', '222'), ('a', '333'), ('b', '444')]\n",
        "    d = {}\n",
        "    for x in range(len(L)):\n",
        "        if L[x][0] not in d:\n",
        "            d[L[x][0]] = []\n",
        "        d[L[x][0]].append(L[x][1])\n",
        "\n",
        "    time2 = perf_counter()\n",
        "\n",
        "    res.append(time2 - time1)\n",
        "\n",
        "timer(test)"
      ],
      "execution_count": null,
      "outputs": []
    },
    {
      "cell_type": "code",
      "metadata": {
        "colab": {
          "base_uri": "https://localhost:8080/"
        },
        "id": "9PQcR84Qj0oa",
        "outputId": "b8f26052-6a31-4664-c819-55c717e2bbcc"
      },
      "source": [
        "print_time()"
      ],
      "execution_count": null,
      "outputs": [
        {
          "output_type": "stream",
          "text": [
            "0.00170 seconds\n"
          ],
          "name": "stdout"
        }
      ]
    },
    {
      "cell_type": "markdown",
      "metadata": {
        "id": "Z57vuCSDZJhA"
      },
      "source": [
        "Pythonic version"
      ]
    },
    {
      "cell_type": "code",
      "metadata": {
        "id": "1E3QgsplZKie"
      },
      "source": [
        "res = []\n",
        "\n",
        "def test():\n",
        "    time1 = perf_counter()\n",
        "\n",
        "    L = [('a', '111'), ('b', '222'), ('a', '333'), ('b', '444')]\n",
        "    d = {L[x][0]: [L[y][1]\n",
        "                for y in range(len(L)) if L[y][0] == L[x][0]] for x in range(len(L))}\n",
        "\n",
        "    time2 = perf_counter()\n",
        "\n",
        "    res.append(time2 - time1)\n",
        "\n",
        "timer(test)"
      ],
      "execution_count": null,
      "outputs": []
    },
    {
      "cell_type": "code",
      "metadata": {
        "colab": {
          "base_uri": "https://localhost:8080/"
        },
        "id": "q0surKRTkcsm",
        "outputId": "12574a48-9f4d-4d61-adba-521ba8b06f33"
      },
      "source": [
        "print_time()"
      ],
      "execution_count": null,
      "outputs": [
        {
          "output_type": "stream",
          "text": [
            "0.00682 seconds\n"
          ],
          "name": "stdout"
        }
      ]
    },
    {
      "cell_type": "markdown",
      "metadata": {
        "id": "Cpeaqjt4ZY9E"
      },
      "source": [
        "## Test 4: for each unique a value, build a dict with key by containing a set of all b values"
      ]
    },
    {
      "cell_type": "markdown",
      "metadata": {
        "id": "KuSYHvvJZhRZ"
      },
      "source": [
        "non-Pythonic version"
      ]
    },
    {
      "cell_type": "code",
      "metadata": {
        "id": "VsrC5rV8ZkTR"
      },
      "source": [
        "res = []\n",
        "\n",
        "def test():\n",
        "    time1 = perf_counter()\n",
        "\n",
        "    list_of_dicts = [\n",
        "        {'a': '1', 'b': '1'},\n",
        "        {'a': '4', 'b': '4'},\n",
        "        {'a': '1', 'b': '1'},\n",
        "        {'a': '3', 'b': '0'},\n",
        "        {'a': '1', 'b': '2'},\n",
        "        {'a': '4', 'b': '99'}\n",
        "    ]\n",
        "    newdict = \\\n",
        "        {d['a']: {\n",
        "            'b': {d['b']} | {another_d['b'] for another_d in list_of_dicts if another_d['a'] == d['a']}\n",
        "        }\n",
        "            for d in list_of_dicts}\n",
        "\n",
        "    time2 = perf_counter()\n",
        "\n",
        "    res.append(time2 - time1)\n",
        "\n",
        "timer(test)"
      ],
      "execution_count": null,
      "outputs": []
    },
    {
      "cell_type": "code",
      "metadata": {
        "colab": {
          "base_uri": "https://localhost:8080/"
        },
        "id": "u5PRXKMZvdq2",
        "outputId": "71a3e830-2dff-42c9-ef77-c6180ab35930"
      },
      "source": [
        "print_time()"
      ],
      "execution_count": null,
      "outputs": [
        {
          "output_type": "stream",
          "text": [
            "0.00761 seconds\n"
          ],
          "name": "stdout"
        }
      ]
    },
    {
      "cell_type": "markdown",
      "metadata": {
        "id": "5M8H0vAFZnph"
      },
      "source": [
        "Pythonic version"
      ]
    },
    {
      "cell_type": "code",
      "metadata": {
        "id": "pvBIuL2yZxZd"
      },
      "source": [
        "# Already a pythonic version "
      ],
      "execution_count": null,
      "outputs": []
    },
    {
      "cell_type": "markdown",
      "metadata": {
        "id": "6VUg1N82aCh1"
      },
      "source": [
        "## Test 5: selecting multiple key with condition in python"
      ]
    },
    {
      "cell_type": "markdown",
      "metadata": {
        "id": "HHbzKWsAaFh_"
      },
      "source": [
        "non-Pythonic version"
      ]
    },
    {
      "cell_type": "code",
      "metadata": {
        "id": "dqk9XMkXaCCG"
      },
      "source": [
        "res = []\n",
        "\n",
        "def test():\n",
        "    time1 = perf_counter()\n",
        "\n",
        "    Mydict = {'A01': 'value1', 'A02': 'value1', 'C01': 'value1', 'C02': 'value1',\n",
        "            'D02': 'value1', 'D03': 'value1', 'D04': 'value1', 'D05': 'value1',\n",
        "            'D06': 'value1', 'D07': 'value1', 'D08': 'value1', 'D09': 'value1'}\n",
        "    NewDict = {x: Mydict[x] for x in Mydict.keys() if x.__contains__('C' or 'D')}\n",
        "\n",
        "    time2 = perf_counter()\n",
        "\n",
        "    res.append(time2 - time1)\n",
        "\n",
        "timer(test)"
      ],
      "execution_count": null,
      "outputs": []
    },
    {
      "cell_type": "code",
      "metadata": {
        "colab": {
          "base_uri": "https://localhost:8080/"
        },
        "id": "NXTmRBWMlOCe",
        "outputId": "f0406426-46e4-43a9-e9cd-c75fb8262bcc"
      },
      "source": [
        "print_time()"
      ],
      "execution_count": null,
      "outputs": [
        {
          "output_type": "stream",
          "text": [
            "0.00240 seconds\n"
          ],
          "name": "stdout"
        }
      ]
    },
    {
      "cell_type": "markdown",
      "metadata": {
        "id": "ZPzYLLN3ajip"
      },
      "source": [
        "Pythonic version"
      ]
    },
    {
      "cell_type": "code",
      "metadata": {
        "id": "bycwTKI_aqfr"
      },
      "source": [
        "res = []\n",
        "\n",
        "def test():\n",
        "    time1 = perf_counter()\n",
        "\n",
        "    Mydict = {'A01': 'value1', 'A02': 'value1', 'C01': 'value1', 'C02': 'value1',\n",
        "            'D02': 'value1', 'D03': 'value1', 'D04': 'value1', 'D05': 'value1',\n",
        "            'D06': 'value1', 'D07': 'value1', 'D08': 'value1', 'D09': 'value1'}\n",
        "    NewDict = {x: Mydict[x] for x in Mydict.keys() if 'C' or 'D' in x}\n",
        "\n",
        "    time2 = perf_counter()\n",
        "\n",
        "    res.append(time2 - time1)\n",
        "\n",
        "timer(test)"
      ],
      "execution_count": null,
      "outputs": []
    },
    {
      "cell_type": "code",
      "metadata": {
        "colab": {
          "base_uri": "https://localhost:8080/"
        },
        "id": "oBzV13sSmqbu",
        "outputId": "3474bf7b-c7e8-4664-c789-f9c14588930f"
      },
      "source": [
        "print_time()"
      ],
      "execution_count": null,
      "outputs": [
        {
          "output_type": "stream",
          "text": [
            "0.00196 seconds\n"
          ],
          "name": "stdout"
        }
      ]
    },
    {
      "cell_type": "markdown",
      "metadata": {
        "id": "elOe2hP9avNN"
      },
      "source": [
        "## Test 6: Nested Dictionary"
      ]
    },
    {
      "cell_type": "markdown",
      "metadata": {
        "id": "uJ2aoR9uay9r"
      },
      "source": [
        "non-Pythonic version"
      ]
    },
    {
      "cell_type": "code",
      "metadata": {
        "id": "p_QVpLG-a0oF"
      },
      "source": [
        "res = []\n",
        "\n",
        "def test():\n",
        "    time1 = perf_counter()\n",
        "\n",
        "    nested_dict = {'first': {'a': 1}, 'second': {'b': 2}}\n",
        "    for (outer_k, outer_v) in nested_dict.items():\n",
        "        for (inner_k, inner_v) in outer_v.items():\n",
        "            outer_v.update({inner_k: float(inner_v)})\n",
        "    nested_dict.update({outer_k: outer_v})\n",
        "    print(nested_dict)\n",
        "\n",
        "    time2 = perf_counter()\n",
        "\n",
        "    res.append(time2 - time1)\n",
        "\n",
        "timer(test)"
      ],
      "execution_count": null,
      "outputs": []
    },
    {
      "cell_type": "code",
      "metadata": {
        "colab": {
          "base_uri": "https://localhost:8080/"
        },
        "id": "tKEHQocim-4b",
        "outputId": "91c99806-ac7d-4842-925f-1883bd9e6562"
      },
      "source": [
        "print_time()"
      ],
      "execution_count": null,
      "outputs": [
        {
          "output_type": "stream",
          "text": [
            "0.07010 seconds\n"
          ],
          "name": "stdout"
        }
      ]
    },
    {
      "cell_type": "markdown",
      "metadata": {
        "id": "YHFlfayAa8Rj"
      },
      "source": [
        "Pythonic version"
      ]
    },
    {
      "cell_type": "code",
      "metadata": {
        "id": "SdNDBGpCbBpY"
      },
      "source": [
        "result = []\n",
        "\n",
        "def test():\n",
        "    time1 = perf_counter()\n",
        "\n",
        "    nested_dict = {'first': {'a': 1}, 'second': {'b': 2}}\n",
        "    res = {key: {in_key: float(nested_dict[key][in_key])\n",
        "                for in_key in nested_dict[key].keys()} for key in nested_dict.keys()}\n",
        "    nested_dict.update(res)\n",
        "    print(nested_dict)\n",
        "\n",
        "    time2 = perf_counter()\n",
        "\n",
        "    result.append(time2 - time1)\n",
        "\n",
        "timer(test)"
      ],
      "execution_count": null,
      "outputs": []
    },
    {
      "cell_type": "code",
      "metadata": {
        "colab": {
          "base_uri": "https://localhost:8080/"
        },
        "id": "0EpicgbPnSUF",
        "outputId": "affd0282-e283-4b6f-a80e-7bbcca9be1db"
      },
      "source": [
        "print_time()"
      ],
      "execution_count": null,
      "outputs": [
        {
          "output_type": "stream",
          "text": [
            "0.07010 seconds\n"
          ],
          "name": "stdout"
        }
      ]
    },
    {
      "cell_type": "markdown",
      "metadata": {
        "id": "fGS6sJVabEHA"
      },
      "source": [
        "## Test 7: query keys in a dictionary based on values"
      ]
    },
    {
      "cell_type": "markdown",
      "metadata": {
        "id": "pQ4d60E8bHHs"
      },
      "source": [
        "non-Pythonic version"
      ]
    },
    {
      "cell_type": "code",
      "metadata": {
        "id": "qThFqnJkbUk_"
      },
      "source": [
        "res = []\n",
        "\n",
        "def test():\n",
        "    time1 = perf_counter()\n",
        "\n",
        "    table = {'x1': {'y1': 1, 'y2': 2},\n",
        "            'x2': {'y1': 3, 'y2': 4},\n",
        "            'x3': {'y3': 5, 'y2': 6}\n",
        "            }\n",
        "    i = {}\n",
        "    for k, v in table.items():\n",
        "        for k2, v2 in v.items():\n",
        "            i[v2] = (k, k2)\n",
        "    print(i)\n",
        "\n",
        "    time2 = perf_counter()\n",
        "\n",
        "    res.append(time2 - time1)\n",
        "\n",
        "timer(test)"
      ],
      "execution_count": null,
      "outputs": []
    },
    {
      "cell_type": "code",
      "metadata": {
        "colab": {
          "base_uri": "https://localhost:8080/"
        },
        "id": "FSkKLzGuoLqq",
        "outputId": "fdd9cf8a-e41d-41c2-fb45-3a849cdab815"
      },
      "source": [
        "print_time()"
      ],
      "execution_count": null,
      "outputs": [
        {
          "output_type": "stream",
          "text": [
            "0.23096 seconds\n"
          ],
          "name": "stdout"
        }
      ]
    },
    {
      "cell_type": "markdown",
      "metadata": {
        "id": "St7wVqtSbWrt"
      },
      "source": [
        "Pythonic version"
      ]
    },
    {
      "cell_type": "code",
      "metadata": {
        "id": "FeBkgd02bXmC"
      },
      "source": [
        "res = []\n",
        "\n",
        "def test():\n",
        "    time1 = perf_counter()\n",
        "\n",
        "    table = {'x1': {'y1': 1, 'y2': 2},\n",
        "            'x2': {'y1': 3, 'y2': 4},\n",
        "            'x3': {'y3': 5, 'y2': 6}\n",
        "            }\n",
        "    a = {v2: (k, k2) for k, v in table.items() for k2, v2 in v.items()}\n",
        "    print(a)\n",
        "\n",
        "    time2 = perf_counter()\n",
        "\n",
        "    res.append(time2 - time1)\n",
        "\n",
        "timer(test)"
      ],
      "execution_count": null,
      "outputs": []
    },
    {
      "cell_type": "code",
      "metadata": {
        "colab": {
          "base_uri": "https://localhost:8080/"
        },
        "id": "eX87HawmowuI",
        "outputId": "d77110ca-179f-4b7c-bf7e-2b1c46ef7b47"
      },
      "source": [
        "print_time()"
      ],
      "execution_count": null,
      "outputs": [
        {
          "output_type": "stream",
          "text": [
            "0.07224 seconds\n"
          ],
          "name": "stdout"
        }
      ]
    },
    {
      "cell_type": "markdown",
      "metadata": {
        "id": "bG-b81wabaTo"
      },
      "source": [
        "## Test 8: Make dictionary from two lists using Counter object"
      ]
    },
    {
      "cell_type": "markdown",
      "metadata": {
        "id": "okQivMZUboe3"
      },
      "source": [
        "non-Pythonic version"
      ]
    },
    {
      "cell_type": "code",
      "metadata": {
        "id": "fNLJpV-YbrH9"
      },
      "source": [
        "res = []\n",
        "\n",
        "def test():\n",
        "    time1 = perf_counter()\n",
        "    from collections import Counter\n",
        "\n",
        "    name = [\"Anne\", \"Jack\", \"Mary\"]\n",
        "    n1 = [[0, 0, 3], [0, 5, 5], [1, 3, 3]]\n",
        "    clust = {}\n",
        "    for i, val in enumerate(name):\n",
        "        wc = Counter(str(e1) for e1 in n1[i])\n",
        "        clust[val] = dict(wc)\n",
        "\n",
        "    time2 = perf_counter()\n",
        "\n",
        "    res.append(time2 - time1)\n",
        "\n",
        "timer(test)"
      ],
      "execution_count": null,
      "outputs": []
    },
    {
      "cell_type": "code",
      "metadata": {
        "colab": {
          "base_uri": "https://localhost:8080/"
        },
        "id": "p8NMH1qgpcvh",
        "outputId": "dac3bb0f-f4b2-4831-9b7a-600c59ac832f"
      },
      "source": [
        "print_time()"
      ],
      "execution_count": null,
      "outputs": [
        {
          "output_type": "stream",
          "text": [
            "0.02383 seconds\n"
          ],
          "name": "stdout"
        }
      ]
    },
    {
      "cell_type": "markdown",
      "metadata": {
        "id": "s0ikGtTCbvk1"
      },
      "source": [
        "Pythonic version"
      ]
    },
    {
      "cell_type": "code",
      "metadata": {
        "id": "xdkP9rsibw3r"
      },
      "source": [
        "res = []\n",
        "\n",
        "def test():\n",
        "    time1 = perf_counter()\n",
        "\n",
        "    name = [\"Anne\", \"Jack\", \"Mary\"]\n",
        "    n1 = [[0, 0, 3], [0, 5, 5], [1, 3, 3]]\n",
        "    clust = {name[n]: {str(num): n1[n].count(num) for num in n1[n]}\n",
        "            for n in range(len(name))}\n",
        "\n",
        "    time2 = perf_counter()\n",
        "\n",
        "    res.append(time2 - time1)\n",
        "\n",
        "timer(test)"
      ],
      "execution_count": null,
      "outputs": []
    },
    {
      "cell_type": "code",
      "metadata": {
        "colab": {
          "base_uri": "https://localhost:8080/"
        },
        "id": "63lRuA3PpyyY",
        "outputId": "70f3e526-e55a-4f23-ea86-05e8f8398594"
      },
      "source": [
        "print_time()"
      ],
      "execution_count": null,
      "outputs": [
        {
          "output_type": "stream",
          "text": [
            "0.00522 seconds\n"
          ],
          "name": "stdout"
        }
      ]
    },
    {
      "cell_type": "markdown",
      "metadata": {
        "id": "PINLscMYb0xX"
      },
      "source": [
        "## Test 9: lambda function"
      ]
    },
    {
      "cell_type": "markdown",
      "metadata": {
        "id": "oYslqOu5cIr4"
      },
      "source": [
        "non-Pythonic version"
      ]
    },
    {
      "cell_type": "code",
      "metadata": {
        "id": "5NHB2aH9cKgx"
      },
      "source": [
        "res = []\n",
        "\n",
        "def test():\n",
        "    time1 = perf_counter()\n",
        "\n",
        "    fahrenheit = {'t1': -30, 't2': -20, 't3': -10, 't4': 0}\n",
        "    celsius = list(map(lambda x: (float(5)/9)*(x-32), fahrenheit.values()))\n",
        "    celsius_dict = dict(zip(fahrenheit.keys(), celsius))\n",
        "    print(celsius_dict)\n",
        "\n",
        "    time2 = perf_counter()\n",
        "\n",
        "    res.append(time2 - time1)\n",
        "\n",
        "timer(test)"
      ],
      "execution_count": null,
      "outputs": []
    },
    {
      "cell_type": "code",
      "metadata": {
        "colab": {
          "base_uri": "https://localhost:8080/"
        },
        "id": "BjAewHJaqFI7",
        "outputId": "010fe952-e77b-4269-87b5-e5d2a7605c66"
      },
      "source": [
        "print_time()"
      ],
      "execution_count": null,
      "outputs": [
        {
          "output_type": "stream",
          "text": [
            "0.18355 seconds\n"
          ],
          "name": "stdout"
        }
      ]
    },
    {
      "cell_type": "markdown",
      "metadata": {
        "id": "9KZNdOWqcP_9"
      },
      "source": [
        "Pythonic version"
      ]
    },
    {
      "cell_type": "code",
      "metadata": {
        "id": "WwcCr9bKcR70"
      },
      "source": [
        "res = []\n",
        "\n",
        "def test():\n",
        "    time1 = perf_counter()\n",
        "\n",
        "    fahrenheit = {'t1': -30, 't2': -20, 't3': -10, 't4': 0}\n",
        "    celsius = {key: (val - 32)*5 / 9 for key, val in fahrenheit.items()}\n",
        "    print(celsius)\n",
        "\n",
        "    time2 = perf_counter()\n",
        "\n",
        "    res.append(time2 - time1)\n",
        "\n",
        "timer(test)"
      ],
      "execution_count": null,
      "outputs": []
    },
    {
      "cell_type": "code",
      "metadata": {
        "colab": {
          "base_uri": "https://localhost:8080/"
        },
        "id": "rmxjBL7AqYS3",
        "outputId": "d608121c-48ea-4803-fa1c-7ba6ccf6d1c4"
      },
      "source": [
        "print_time()"
      ],
      "execution_count": null,
      "outputs": [
        {
          "output_type": "stream",
          "text": [
            "0.24331 seconds\n"
          ],
          "name": "stdout"
        }
      ]
    },
    {
      "cell_type": "markdown",
      "metadata": {
        "id": "0I-CR0PwcfNK"
      },
      "source": [
        "## Test 10: sort sublists in dictionary"
      ]
    },
    {
      "cell_type": "markdown",
      "metadata": {
        "id": "9j7DNf9Icgb4"
      },
      "source": [
        "non-Pythonic version"
      ]
    },
    {
      "cell_type": "code",
      "metadata": {
        "id": "K6LcwDpFch_P"
      },
      "source": [
        "res = []\n",
        "\n",
        "def test():\n",
        "    time1 = perf_counter()\n",
        "\n",
        "    my_data = [[1, 2, 3, 4, 5], [1, 2, 3, 4, 5], [1, 2, 3, 4, 5]]\n",
        "    my_dict = {}\n",
        "    my_dict['key 0'] = [item[0] for item in my_data]\n",
        "    my_dict['key 1'] = [item[1] for item in my_data]\n",
        "    my_dict['key 2'] = [item[2] for item in my_data]\n",
        "    my_dict['key 3'] = [item[3] for item in my_data]\n",
        "    my_dict['key 4'] = [item[4] for item in my_data]\n",
        "\n",
        "    time2 = perf_counter()\n",
        "\n",
        "    res.append(time2 - time1)\n",
        "\n",
        "timer(test)"
      ],
      "execution_count": null,
      "outputs": []
    },
    {
      "cell_type": "code",
      "metadata": {
        "colab": {
          "base_uri": "https://localhost:8080/"
        },
        "id": "kNUOADiOqrIB",
        "outputId": "605b167a-44d5-4616-b9d7-7503b573ae55"
      },
      "source": [
        "print_time()"
      ],
      "execution_count": null,
      "outputs": [
        {
          "output_type": "stream",
          "text": [
            "0.00250 seconds\n"
          ],
          "name": "stdout"
        }
      ]
    },
    {
      "cell_type": "markdown",
      "metadata": {
        "id": "iInfshuvckkc"
      },
      "source": [
        "Pythonic version"
      ]
    },
    {
      "cell_type": "code",
      "metadata": {
        "id": "Wgmuh-rccmWe"
      },
      "source": [
        "res = []\n",
        "\n",
        "def test():\n",
        "    time1 = perf_counter()\n",
        "\n",
        "    my_data = [[1, 2, 3, 4, 5], [1, 2, 3, 4, 5], [1, 2, 3, 4, 5]]\n",
        "    my_dict = {f'key {i}': [item[i] for item in my_data]\n",
        "            for i in range(len(my_data[0]))}\n",
        "\n",
        "    time2 = perf_counter()\n",
        "\n",
        "    res.append(time2 - time1)\n",
        "\n",
        "timer(test)"
      ],
      "execution_count": null,
      "outputs": []
    },
    {
      "cell_type": "code",
      "metadata": {
        "colab": {
          "base_uri": "https://localhost:8080/"
        },
        "id": "pAQ3l85xqsqQ",
        "outputId": "189a3b97-b275-4619-9a68-826e6e92ee62"
      },
      "source": [
        "print_time()"
      ],
      "execution_count": null,
      "outputs": [
        {
          "output_type": "stream",
          "text": [
            "0.00378 seconds\n"
          ],
          "name": "stdout"
        }
      ]
    }
  ]
}