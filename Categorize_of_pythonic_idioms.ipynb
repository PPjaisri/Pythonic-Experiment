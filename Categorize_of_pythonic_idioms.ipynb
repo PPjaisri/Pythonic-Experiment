{
  "nbformat": 4,
  "nbformat_minor": 0,
  "metadata": {
    "colab": {
      "name": "Categorize of pythonic idioms.ipynb",
      "provenance": [],
      "collapsed_sections": [],
      "toc_visible": true
    },
    "kernelspec": {
      "name": "python3",
      "display_name": "Python 3"
    },
    "language_info": {
      "name": "python"
    }
  },
  "cells": [
    {
      "cell_type": "markdown",
      "metadata": {
        "id": "sZCXEQuHXaI_"
      },
      "source": [
        "# Pythonic Idiom\n"
      ]
    },
    {
      "cell_type": "markdown",
      "metadata": {
        "id": "bqk4RfRo0Dg1"
      },
      "source": [
        "## Pythonic idiom type\n",
        "This type of category was listed (some reference is [Here](https://medium.com/the-andela-way/idiomatic-python-coding-the-smart-way-cc560fa5f1d6))"
      ]
    },
    {
      "cell_type": "markdown",
      "metadata": {
        "id": "CQxkCMGGYX1W"
      },
      "source": [
        "### List comprehension"
      ]
    },
    {
      "cell_type": "markdown",
      "metadata": {
        "id": "jVwqKqfIlPBQ"
      },
      "source": [
        "original version"
      ]
    },
    {
      "cell_type": "code",
      "metadata": {
        "colab": {
          "base_uri": "https://localhost:8080/"
        },
        "id": "uzV4wecOlOJm",
        "outputId": "b8df3d11-7776-4163-caec-2ce77ea7dac3"
      },
      "source": [
        "temp = {}\n",
        "for index in range(1, 11):\n",
        "    temp[index] = index**2\n",
        "print(temp)"
      ],
      "execution_count": null,
      "outputs": [
        {
          "output_type": "stream",
          "text": [
            "{1: 1, 2: 4, 3: 9, 4: 16, 5: 25, 6: 36, 7: 49, 8: 64, 9: 81, 10: 100}\n"
          ],
          "name": "stdout"
        }
      ]
    },
    {
      "cell_type": "markdown",
      "metadata": {
        "id": "ktMdfJQ3l8nX"
      },
      "source": [
        "Pythonic version"
      ]
    },
    {
      "cell_type": "code",
      "metadata": {
        "colab": {
          "base_uri": "https://localhost:8080/"
        },
        "id": "mK4Al5qZS5y5",
        "outputId": "b6a48116-914e-4cad-ab01-ac7bb61b082d"
      },
      "source": [
        "temp = { index: index**2 for index in range(1, 11) }\n",
        "print(temp)"
      ],
      "execution_count": null,
      "outputs": [
        {
          "output_type": "stream",
          "text": [
            "{1: 1, 2: 4, 3: 9, 4: 16, 5: 25, 6: 36, 7: 49, 8: 64, 9: 81, 10: 100}\n"
          ],
          "name": "stdout"
        }
      ]
    },
    {
      "cell_type": "markdown",
      "metadata": {
        "id": "-qInhC-Cm_j-"
      },
      "source": [
        "### Dictionary comprehension"
      ]
    },
    {
      "cell_type": "markdown",
      "metadata": {
        "id": "CGQ1ZYuSnI9C"
      },
      "source": [
        "original version"
      ]
    },
    {
      "cell_type": "code",
      "metadata": {
        "colab": {
          "base_uri": "https://localhost:8080/"
        },
        "id": "-So31hRZmD4x",
        "outputId": "47e3578c-b96d-4dc3-b5f7-b6ae96b5e5ad"
      },
      "source": [
        "temp = []\n",
        "for index in range(1, 11):\n",
        "    temp.append(index**2)\n",
        "print(temp)"
      ],
      "execution_count": null,
      "outputs": [
        {
          "output_type": "stream",
          "text": [
            "[1, 4, 9, 16, 25, 36, 49, 64, 81, 100]\n"
          ],
          "name": "stdout"
        }
      ]
    },
    {
      "cell_type": "markdown",
      "metadata": {
        "id": "aRhaKNOYni2J"
      },
      "source": [
        "pythonic version"
      ]
    },
    {
      "cell_type": "code",
      "metadata": {
        "colab": {
          "base_uri": "https://localhost:8080/"
        },
        "id": "oVHYwIWpnDQN",
        "outputId": "90f0c80d-4f47-44e1-a943-92300335ebff"
      },
      "source": [
        "temp = [ index**2 for index in range(1, 11) ]\n",
        "print(temp)"
      ],
      "execution_count": null,
      "outputs": [
        {
          "output_type": "stream",
          "text": [
            "[1, 4, 9, 16, 25, 36, 49, 64, 81, 100]\n"
          ],
          "name": "stdout"
        }
      ]
    },
    {
      "cell_type": "markdown",
      "metadata": {
        "id": "ZdaBov3Vn9U-"
      },
      "source": [
        "### Set comprehension"
      ]
    },
    {
      "cell_type": "markdown",
      "metadata": {
        "id": "IDgPQVFf8cGd"
      },
      "source": [
        "original version"
      ]
    },
    {
      "cell_type": "code",
      "metadata": {
        "id": "Ln5IxZ1Tno9l",
        "colab": {
          "base_uri": "https://localhost:8080/"
        },
        "outputId": "298f34fb-3430-48a4-f7cc-6716dbf42552"
      },
      "source": [
        "temp = set()\n",
        "for index in range(1, 11):\n",
        "    temp.add(index**2)\n",
        "print(temp)"
      ],
      "execution_count": null,
      "outputs": [
        {
          "output_type": "stream",
          "text": [
            "{64, 1, 4, 36, 100, 9, 16, 49, 81, 25}\n"
          ],
          "name": "stdout"
        }
      ]
    },
    {
      "cell_type": "markdown",
      "metadata": {
        "id": "9guS9dMa8zIp"
      },
      "source": [
        "pythonic version"
      ]
    },
    {
      "cell_type": "code",
      "metadata": {
        "colab": {
          "base_uri": "https://localhost:8080/"
        },
        "id": "3bKD_Wcl8ov9",
        "outputId": "42368431-2846-4365-9159-92785f2e9a27"
      },
      "source": [
        "temp = { index**2 for index in range(1, 11) }\n",
        "print(temp)"
      ],
      "execution_count": null,
      "outputs": [
        {
          "output_type": "stream",
          "text": [
            "{64, 1, 4, 36, 100, 9, 16, 49, 81, 25}\n"
          ],
          "name": "stdout"
        }
      ]
    },
    {
      "cell_type": "markdown",
      "metadata": {
        "id": "r8Wxrkdu9D_9"
      },
      "source": [
        "### Enumerate"
      ]
    },
    {
      "cell_type": "markdown",
      "metadata": {
        "id": "r0wjh6D19LxW"
      },
      "source": [
        "original version"
      ]
    },
    {
      "cell_type": "code",
      "metadata": {
        "colab": {
          "base_uri": "https://localhost:8080/"
        },
        "id": "pSo5r3JB8yWy",
        "outputId": "4ff120b3-dfee-4122-a73c-838b96a8910d"
      },
      "source": [
        "temp = [1, 2, 3]\n",
        "index = 0\n",
        "\n",
        "for i in temp:\n",
        "    print(index, i)\n",
        "    index += 1"
      ],
      "execution_count": null,
      "outputs": [
        {
          "output_type": "stream",
          "text": [
            "0 1\n",
            "1 2\n",
            "2 3\n"
          ],
          "name": "stdout"
        }
      ]
    },
    {
      "cell_type": "markdown",
      "metadata": {
        "id": "6VE0FmxM9Z1g"
      },
      "source": [
        "pythonic version"
      ]
    },
    {
      "cell_type": "code",
      "metadata": {
        "colab": {
          "base_uri": "https://localhost:8080/"
        },
        "id": "0L_3nkMT9Yvw",
        "outputId": "264c8fa9-63b4-4249-e748-20839efe82d3"
      },
      "source": [
        "temp = [1, 2, 3]\n",
        "\n",
        "for (index, item) in enumerate(temp):\n",
        "    print(index, item)"
      ],
      "execution_count": null,
      "outputs": [
        {
          "output_type": "stream",
          "text": [
            "0 1\n",
            "1 2\n",
            "2 3\n"
          ],
          "name": "stdout"
        }
      ]
    },
    {
      "cell_type": "code",
      "metadata": {
        "id": "RROBabrR9odm"
      },
      "source": [
        ""
      ],
      "execution_count": null,
      "outputs": []
    }
  ]
}